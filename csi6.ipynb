{
  "nbformat": 4,
  "nbformat_minor": 0,
  "metadata": {
    "colab": {
      "provenance": []
    },
    "kernelspec": {
      "name": "python3",
      "display_name": "Python 3"
    },
    "language_info": {
      "name": "python"
    }
  },
  "cells": [
    {
      "cell_type": "code",
      "execution_count": 12,
      "metadata": {
        "id": "prrRmxtX69Ya"
      },
      "outputs": [],
      "source": []
    },
    {
      "cell_type": "code",
      "source": [
        "# directly importing data set from sklear\n",
        "from sklearn.datasets import load_breast_cancer\n",
        "\n",
        "\n",
        "data = load_breast_cancer()\n",
        "\n",
        "X = data.data\n",
        "y = data.target\n",
        "\n",
        "print(\"Data loaded!\")\n",
        "print(\"Shape of X:\", X.shape) #printing shape of x and y\n",
        "print(\"Shape of y:\", y.shape)\n"
      ],
      "metadata": {
        "colab": {
          "base_uri": "https://localhost:8080/"
        },
        "id": "9Gv_5w1kDGgl",
        "outputId": "371f7687-9423-497c-a710-c99f5d24d5bf"
      },
      "execution_count": 2,
      "outputs": [
        {
          "output_type": "stream",
          "name": "stdout",
          "text": [
            "Data loaded!\n",
            "Shape of X: (569, 30)\n",
            "Shape of y: (569,)\n"
          ]
        }
      ]
    },
    {
      "cell_type": "code",
      "source": [
        "\n",
        "from sklearn.model_selection import train_test_split\n",
        "\n",
        "#doing train test split for training model\n",
        "X_train, X_test, y_train, y_test = train_test_split(\n",
        "    X, y, test_size=0.2, random_state=42, stratify=y\n",
        ")\n",
        "\n",
        "print(\"\\nData splitting done.\")\n",
        "print(\"Training set size:\", X_train.shape[0])\n",
        "print(\"Testing set size:\", X_test.shape[0])\n"
      ],
      "metadata": {
        "colab": {
          "base_uri": "https://localhost:8080/"
        },
        "id": "O4t11FjYDa-P",
        "outputId": "56f50e12-a7e3-4a11-dac5-cb1bfaa5ef08"
      },
      "execution_count": 3,
      "outputs": [
        {
          "output_type": "stream",
          "name": "stdout",
          "text": [
            "\n",
            "Data splitting done.\n",
            "Training set size: 455\n",
            "Testing set size: 114\n"
          ]
        }
      ]
    },
    {
      "cell_type": "code",
      "source": [
        "#sclaing kr rhae hai so model ache se train ho ske\n",
        "from sklearn.preprocessing import StandardScaler\n",
        "\n",
        "scaler = StandardScaler()\n",
        "\n",
        "X_train_scaled = scaler.fit_transform(X_train)\n",
        "X_test_scaled = scaler.transform(X_test)\n",
        "\n",
        "print(\"\\nScaling ho gya .\")\n"
      ],
      "metadata": {
        "colab": {
          "base_uri": "https://localhost:8080/"
        },
        "id": "w77tmI5zDmiJ",
        "outputId": "ade4838c-5357-469b-fac1-b77fd0e97ae1"
      },
      "execution_count": 5,
      "outputs": [
        {
          "output_type": "stream",
          "name": "stdout",
          "text": [
            "\n",
            "Scaling ho gya .\n"
          ]
        }
      ]
    },
    {
      "cell_type": "code",
      "source": [
        "# Now we want to train some models and compare them\n",
        "\n",
        "\n",
        "from sklearn.linear_model import LogisticRegression\n",
        "from sklearn.ensemble import RandomForestClassifier\n",
        "from sklearn.svm import SVC\n",
        "from sklearn.neighbors import KNeighborsClassifier\n",
        "from sklearn.tree import DecisionTreeClassifier\n",
        "from sklearn.naive_bayes import GaussianNB\n",
        "\n",
        "\n",
        "from sklearn.metrics import accuracy_score, precision_score, recall_score, f1_score\n",
        "\n",
        "models = {\n",
        "    'Logistic Regression': LogisticRegression(max_iter=500),\n",
        "    'Random Forest': RandomForestClassifier(),\n",
        "    'SVM': SVC(),\n",
        "    'KNN': KNeighborsClassifier(),\n",
        "    'Decision Tree': DecisionTreeClassifier(),\n",
        "    'Naive Bayes': GaussianNB()\n",
        "}\n",
        "\n",
        "results = []\n",
        "\n",
        "\n",
        "for name, model in models.items():\n",
        "    model.fit(X_train_scaled, y_train)\n",
        "    y_pred = model.predict(X_test_scaled)\n",
        "\n",
        "    acc = accuracy_score(y_test, y_pred)\n",
        "    prec = precision_score(y_test, y_pred)\n",
        "    rec = recall_score(y_test, y_pred)\n",
        "    f1 = f1_score(y_test, y_pred)\n",
        "\n",
        "    print(f\"{name}\")\n",
        "    print(f\"  Accuracy: {acc:.4f}\")\n",
        "    print(f\"  Precision: {prec:.4f}\")\n",
        "    print(f\"  Recall: {rec:.4f}\")\n",
        "    print(f\"  F1-Score: {f1:.4f}\")\n",
        "    print(\"-\" * 40)\n",
        "\n",
        "    results.append({\n",
        "        'Model': name,\n",
        "        'Accuracy': acc,\n",
        "        'Precision': prec,\n",
        "        'Recall': rec,\n",
        "        'F1-Score': f1\n",
        "    })\n"
      ],
      "metadata": {
        "colab": {
          "base_uri": "https://localhost:8080/"
        },
        "id": "uAjYlrfhDuc4",
        "outputId": "d82585a0-8598-46de-cfad-c60f1d16aa90"
      },
      "execution_count": 6,
      "outputs": [
        {
          "output_type": "stream",
          "name": "stdout",
          "text": [
            "\n",
            "Training different models...\n",
            "\n",
            "Logistic Regression\n",
            "  Accuracy: 0.9825\n",
            "  Precision: 0.9861\n",
            "  Recall: 0.9861\n",
            "  F1-Score: 0.9861\n",
            "----------------------------------------\n",
            "Random Forest\n",
            "  Accuracy: 0.9474\n",
            "  Precision: 0.9583\n",
            "  Recall: 0.9583\n",
            "  F1-Score: 0.9583\n",
            "----------------------------------------\n",
            "SVM\n",
            "  Accuracy: 0.9825\n",
            "  Precision: 0.9861\n",
            "  Recall: 0.9861\n",
            "  F1-Score: 0.9861\n",
            "----------------------------------------\n",
            "KNN\n",
            "  Accuracy: 0.9561\n",
            "  Precision: 0.9589\n",
            "  Recall: 0.9722\n",
            "  F1-Score: 0.9655\n",
            "----------------------------------------\n",
            "Decision Tree\n",
            "  Accuracy: 0.9123\n",
            "  Precision: 0.9429\n",
            "  Recall: 0.9167\n",
            "  F1-Score: 0.9296\n",
            "----------------------------------------\n",
            "Naive Bayes\n",
            "  Accuracy: 0.9298\n",
            "  Precision: 0.9444\n",
            "  Recall: 0.9444\n",
            "  F1-Score: 0.9444\n",
            "----------------------------------------\n"
          ]
        }
      ]
    },
    {
      "cell_type": "code",
      "source": [
        "# Now we want to make a table .\n",
        "import pandas as pd\n",
        "\n",
        "results_df = pd.DataFrame(results)\n",
        "\n",
        "print(\"\\n=== Model Comparison ===\")\n",
        "print(results_df.sort_values(by='F1-Score', ascending=False))\n",
        ""
      ],
      "metadata": {
        "colab": {
          "base_uri": "https://localhost:8080/"
        },
        "id": "ugfMCSskD2Fl",
        "outputId": "7e2603a7-6878-4ac8-9937-160d8a72ff1b"
      },
      "execution_count": 7,
      "outputs": [
        {
          "output_type": "stream",
          "name": "stdout",
          "text": [
            "\n",
            "=== Model Comparison ===\n",
            "                 Model  Accuracy  Precision    Recall  F1-Score\n",
            "0  Logistic Regression  0.982456   0.986111  0.986111  0.986111\n",
            "2                  SVM  0.982456   0.986111  0.986111  0.986111\n",
            "3                  KNN  0.956140   0.958904  0.972222  0.965517\n",
            "1        Random Forest  0.947368   0.958333  0.958333  0.958333\n",
            "5          Naive Bayes  0.929825   0.944444  0.944444  0.944444\n",
            "4        Decision Tree  0.912281   0.942857  0.916667  0.929577\n"
          ]
        }
      ]
    },
    {
      "cell_type": "code",
      "source": [
        "#tuning\n",
        "\n",
        "from sklearn.model_selection import GridSearchCV\n",
        "\n",
        "\n",
        "rf_param_grid = {\n",
        "    'n_estimators': [50, 100, 200],\n",
        "    'max_depth': [None, 3, 5],\n",
        "    'min_samples_split': [2, 5]\n",
        "}\n",
        "\n",
        "\n",
        "rf_grid = GridSearchCV(\n",
        "    estimator=RandomForestClassifier(random_state=42),\n",
        "    param_grid=rf_param_grid,\n",
        "    scoring='f1',\n",
        "    cv=3,\n",
        "    n_jobs=-1\n",
        ")\n",
        "\n",
        "rf_grid.fit(X_train_scaled, y_train)\n",
        "\n",
        "print(\"\\nBest parameters for Random Forest:\")\n",
        "print(rf_grid.best_params_)\n"
      ],
      "metadata": {
        "colab": {
          "base_uri": "https://localhost:8080/"
        },
        "id": "_0BIEtryECEm",
        "outputId": "fc0687e7-ec6c-42c5-d847-960c0de313e9"
      },
      "execution_count": 8,
      "outputs": [
        {
          "output_type": "stream",
          "name": "stdout",
          "text": [
            "\n",
            "Best parameters for Random Forest:\n",
            "{'max_depth': None, 'min_samples_split': 5, 'n_estimators': 200}\n"
          ]
        }
      ]
    },
    {
      "cell_type": "code",
      "source": [
        "\n",
        "from sklearn.metrics import classification_report\n",
        "\n",
        "rf_best = rf_grid.best_estimator_\n",
        "y_pred_rf = rf_best.predict(X_test_scaled)\n",
        "\n",
        "print(\"\\nClassification Report for Tuned Random Forest:\")\n",
        "print(classification_report(y_test, y_pred_rf, target_names=data.target_names))\n"
      ],
      "metadata": {
        "colab": {
          "base_uri": "https://localhost:8080/"
        },
        "id": "B18IU9b0ELof",
        "outputId": "6aaa899b-0087-4887-e4d9-42b33e7f9c24"
      },
      "execution_count": 9,
      "outputs": [
        {
          "output_type": "stream",
          "name": "stdout",
          "text": [
            "\n",
            "Classification Report for Tuned Random Forest:\n",
            "              precision    recall  f1-score   support\n",
            "\n",
            "   malignant       0.93      0.93      0.93        42\n",
            "      benign       0.96      0.96      0.96        72\n",
            "\n",
            "    accuracy                           0.95       114\n",
            "   macro avg       0.94      0.94      0.94       114\n",
            "weighted avg       0.95      0.95      0.95       114\n",
            "\n"
          ]
        }
      ]
    },
    {
      "cell_type": "code",
      "source": [
        "#svm tune\n",
        "\n",
        "from sklearn.model_selection import RandomizedSearchCV\n",
        "import numpy as np\n",
        "\n",
        "svm_param_dist = {\n",
        "    'C': np.logspace(-3, 3, 10),\n",
        "    'kernel': ['linear', 'rbf', 'poly'],\n",
        "    'gamma': ['scale', 'auto']\n",
        "}\n",
        "\n",
        "svm_random = RandomizedSearchCV(\n",
        "    estimator=SVC(),\n",
        "    param_distributions=svm_param_dist,\n",
        "    n_iter=10,\n",
        "    scoring='f1',\n",
        "    cv=3,\n",
        "    n_jobs=-1,\n",
        "    random_state=42\n",
        ")\n",
        "\n",
        "svm_random.fit(X_train_scaled, y_train)\n",
        "\n",
        "print(\"\\nBest parameters for SVM:\")\n",
        "print(svm_random.best_params_)\n"
      ],
      "metadata": {
        "colab": {
          "base_uri": "https://localhost:8080/"
        },
        "id": "6Ct7eq5dEVsH",
        "outputId": "f3629b31-dac3-4771-e34f-beb5a1fdf194"
      },
      "execution_count": 10,
      "outputs": [
        {
          "output_type": "stream",
          "name": "stdout",
          "text": [
            "\n",
            "Best parameters for SVM:\n",
            "{'kernel': 'linear', 'gamma': 'auto', 'C': np.float64(2.154434690031882)}\n"
          ]
        }
      ]
    },
    {
      "cell_type": "code",
      "source": [
        "# Evaluate\n",
        "\n",
        "svm_best = svm_random.best_estimator_\n",
        "y_pred_svm = svm_best.predict(X_test_scaled)\n",
        "\n",
        "print(\"\\nClassification Report for Tuned SVM:\")\n",
        "print(classification_report(y_test, y_pred_svm, target_names=data.target_names))\n"
      ],
      "metadata": {
        "colab": {
          "base_uri": "https://localhost:8080/"
        },
        "id": "MFfdPmPpEZd0",
        "outputId": "ff77cade-1a43-4f49-de3b-143da9e4f5a4"
      },
      "execution_count": 11,
      "outputs": [
        {
          "output_type": "stream",
          "name": "stdout",
          "text": [
            "\n",
            "Classification Report for Tuned SVM:\n",
            "              precision    recall  f1-score   support\n",
            "\n",
            "   malignant       0.91      0.98      0.94        42\n",
            "      benign       0.99      0.94      0.96        72\n",
            "\n",
            "    accuracy                           0.96       114\n",
            "   macro avg       0.95      0.96      0.95       114\n",
            "weighted avg       0.96      0.96      0.96       114\n",
            "\n"
          ]
        }
      ]
    },
    {
      "cell_type": "code",
      "source": [
        "#compare\n",
        "\n",
        "final_models = {\n",
        "    'Random Forest (Tuned)': rf_best,\n",
        "    'SVM (Tuned)': svm_best\n",
        "}\n",
        "\n",
        "final_results = []\n",
        "\n",
        "for name, model in final_models.items():\n",
        "    y_pred = model.predict(X_test_scaled)\n",
        "    acc = accuracy_score(y_test, y_pred)\n",
        "    prec = precision_score(y_test, y_pred)\n",
        "    rec = recall_score(y_test, y_pred)\n",
        "    f1 = f1_score(y_test, y_pred)\n",
        "\n",
        "    print(f\"\\n{name}\")\n",
        "    print(f\"  Accuracy: {acc:.4f}\")\n",
        "    print(f\"  Precision: {prec:.4f}\")\n",
        "    print(f\"  Recall: {rec:.4f}\")\n",
        "    print(f\"  F1-Score: {f1:.4f}\")\n",
        "\n",
        "    final_results.append({\n",
        "        'Model': name,\n",
        "        'Accuracy': acc,\n",
        "        'Precision': prec,\n",
        "        'Recall': rec,\n",
        "        'F1-Score': f1\n",
        "    })\n",
        "\n",
        "final_df = pd.DataFrame(final_results)\n",
        "\n",
        "print(\"\\n=== Final Tuned Models Comparison ===\")\n",
        "print(final_df.sort_values(by='F1-Score', ascending=False))\n",
        "# which model is best\n",
        "best_model_name = final_df.sort_values(by='F1-Score', ascending=False).iloc[0]['Model']\n",
        "print(f\"\\n The best model after tuning is: {best_model_name}\")\n"
      ],
      "metadata": {
        "colab": {
          "base_uri": "https://localhost:8080/"
        },
        "id": "-K930ovhEc50",
        "outputId": "715a0141-cee0-4e44-9990-325ce7dcae8e"
      },
      "execution_count": 13,
      "outputs": [
        {
          "output_type": "stream",
          "name": "stdout",
          "text": [
            "\n",
            "Random Forest (Tuned)\n",
            "  Accuracy: 0.9474\n",
            "  Precision: 0.9583\n",
            "  Recall: 0.9583\n",
            "  F1-Score: 0.9583\n",
            "\n",
            "SVM (Tuned)\n",
            "  Accuracy: 0.9561\n",
            "  Precision: 0.9855\n",
            "  Recall: 0.9444\n",
            "  F1-Score: 0.9645\n",
            "\n",
            "=== Final Tuned Models Comparison ===\n",
            "                   Model  Accuracy  Precision    Recall  F1-Score\n",
            "1            SVM (Tuned)  0.956140   0.985507  0.944444  0.964539\n",
            "0  Random Forest (Tuned)  0.947368   0.958333  0.958333  0.958333\n",
            "\n",
            " The best model after tuning is: SVM (Tuned)\n"
          ]
        }
      ]
    }
  ]
}